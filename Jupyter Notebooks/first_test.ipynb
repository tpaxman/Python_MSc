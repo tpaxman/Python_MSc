{
 "cells": [
  {
   "cell_type": "code",
   "execution_count": 1,
   "metadata": {},
   "outputs": [],
   "source": [
    "import numpy as np\n",
    "import pandas as pd"
   ]
  },
  {
   "cell_type": "code",
   "execution_count": 5,
   "metadata": {
    "scrolled": true
   },
   "outputs": [
    {
     "name": "stdout",
     "output_type": "stream",
     "text": [
      "C:\\Users\\tyler\\Documents\\MY_MSC\\Python_MSc\n"
     ]
    }
   ],
   "source": [
    "cd C:\\Users\\tyler\\Documents\\MY_MSC\\Python_MSc\\"
   ]
  },
  {
   "cell_type": "code",
   "execution_count": 12,
   "metadata": {
    "scrolled": true
   },
   "outputs": [
    {
     "data": {
      "text/html": [
       "<div>\n",
       "<style scoped>\n",
       "    .dataframe tbody tr th:only-of-type {\n",
       "        vertical-align: middle;\n",
       "    }\n",
       "\n",
       "    .dataframe tbody tr th {\n",
       "        vertical-align: top;\n",
       "    }\n",
       "\n",
       "    .dataframe thead th {\n",
       "        text-align: right;\n",
       "    }\n",
       "</style>\n",
       "<table border=\"1\" class=\"dataframe\">\n",
       "  <thead>\n",
       "    <tr style=\"text-align: right;\">\n",
       "      <th></th>\n",
       "      <th>fluidFlag</th>\n",
       "      <th>fluidName</th>\n",
       "      <th>rho</th>\n",
       "      <th>mu</th>\n",
       "      <th>K_SE</th>\n",
       "      <th>latexName</th>\n",
       "    </tr>\n",
       "  </thead>\n",
       "  <tbody>\n",
       "    <tr>\n",
       "      <th>0</th>\n",
       "      <td>1</td>\n",
       "      <td>air</td>\n",
       "      <td>1.206</td>\n",
       "      <td>0.000018</td>\n",
       "      <td>1</td>\n",
       "      <td>Air</td>\n",
       "    </tr>\n",
       "    <tr>\n",
       "      <th>1</th>\n",
       "      <td>2</td>\n",
       "      <td>heliox</td>\n",
       "      <td>0.399</td>\n",
       "      <td>0.000022</td>\n",
       "      <td>1</td>\n",
       "      <td>He-$\\mathrm{O_2}$ (80/20)</td>\n",
       "    </tr>\n",
       "    <tr>\n",
       "      <th>2</th>\n",
       "      <td>3</td>\n",
       "      <td>entonox</td>\n",
       "      <td>1.580</td>\n",
       "      <td>0.000016</td>\n",
       "      <td>1</td>\n",
       "      <td>$\\mathrm{N_2O}$-$\\mathrm{O_2}$ (50/50)</td>\n",
       "    </tr>\n",
       "  </tbody>\n",
       "</table>\n",
       "</div>"
      ],
      "text/plain": [
       "   fluidFlag fluidName    rho        mu  K_SE  \\\n",
       "0          1       air  1.206  0.000018     1   \n",
       "1          2    heliox  0.399  0.000022     1   \n",
       "2          3   entonox  1.580  0.000016     1   \n",
       "\n",
       "                                latexName  \n",
       "0                                     Air  \n",
       "1               He-$\\mathrm{O_2}$ (80/20)  \n",
       "2  $\\mathrm{N_2O}$-$\\mathrm{O_2}$ (50/50)  "
      ]
     },
     "execution_count": 12,
     "metadata": {},
     "output_type": "execute_result"
    }
   ],
   "source": [
    "x=pd.read_csv(\"./SOURCE_DATA/FLUID_VALUES.csv\")\n",
    "x.head()"
   ]
  },
  {
   "cell_type": "code",
   "execution_count": 18,
   "metadata": {},
   "outputs": [
    {
     "data": {
      "text/plain": [
       "0    Air\n",
       "Name: latexName, dtype: object"
      ]
     },
     "execution_count": 18,
     "metadata": {},
     "output_type": "execute_result"
    }
   ],
   "source": [
    "x.latexName[x.fluidFlag==1]"
   ]
  },
  {
   "cell_type": "code",
   "execution_count": null,
   "metadata": {},
   "outputs": [],
   "source": []
  }
 ],
 "metadata": {
  "kernelspec": {
   "display_name": "Python 3",
   "language": "python",
   "name": "python3"
  },
  "language_info": {
   "codemirror_mode": {
    "name": "ipython",
    "version": 3
   },
   "file_extension": ".py",
   "mimetype": "text/x-python",
   "name": "python",
   "nbconvert_exporter": "python",
   "pygments_lexer": "ipython3",
   "version": "3.6.5"
  }
 },
 "nbformat": 4,
 "nbformat_minor": 2
}
