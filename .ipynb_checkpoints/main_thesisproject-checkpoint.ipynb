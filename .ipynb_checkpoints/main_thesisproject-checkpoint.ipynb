{
 "cells": [
  {
   "cell_type": "markdown",
   "metadata": {},
   "source": [
    "# EXPERIMENTAL DATA"
   ]
  },
  {
   "cell_type": "code",
   "execution_count": 104,
   "metadata": {},
   "outputs": [],
   "source": [
    "%matplotlib inline\n",
    "import importlib\n",
    "import numpy as np\n",
    "import pandas as pd\n",
    "from sklearn.cluster import KMeans, DBSCAN\n",
    "import matplotlib.pyplot as plt\n",
    "import seaborn as sns\n",
    "\n",
    "# User-defined modules:\n",
    "import fluidmechanics as fluids\n",
    "\n",
    "sns.set()"
   ]
  },
  {
   "cell_type": "markdown",
   "metadata": {},
   "source": [
    "## Corrections for heliox flowrates (DataFrame 'H')\n",
    "The flowmeter used in the experiments (TSI) does not have a built in setting for heliox. The vendor recommended a correction factor to use while using heliox while the flowmeter was set for 'Air'. This correction factor turned out to be erroneous when testing with an Alicat flow controller, which had been validated. In order to shift all the heliox measurement flowrate to their proper values, a table of points showing the reading on the Alicat controller (correct) and the simultaneous reading on the TSI flow meter (incorrect) were recorded (in `HELIOX_FLOWRATE_CONVERT.csv`)"
   ]
  },
  {
   "cell_type": "code",
   "execution_count": 72,
   "metadata": {},
   "outputs": [],
   "source": [
    "# IMPORT CORRECTIONS FOR ERRONEOUS HELIOX READINGS\n",
    "H = pd.read_csv(\"./SOURCE_DATA/SubjectReplicas_ExperimentalMeasurements/HELIOX_FLOWRATE_CONVERT.csv\")\n",
    "H = pd.pivot_table(H, index='alicatHeliumReading', aggfunc=(np.mean,np.std))  #aggregate and average repeated measurements "
   ]
  },
  {
   "cell_type": "code",
   "execution_count": 73,
   "metadata": {},
   "outputs": [],
   "source": [
    "# CORRECT HELIOX FLOW RATES\n",
    "def helioxcorrection(q,H):\n",
    "    TSI_Q  = H.loc[:,('tsiAirReading','mean')]\n",
    "    TRUE_Q = H.loc[:,('actualHelioxFlowRate','mean')]\n",
    "    return np.interp(q, TSI_Q, TRUE_Q)\n",
    "\n",
    "def correcthelioxflowrates(df,H):\n",
    "    df.loc[df['fluid']=='heliox', 'qstp'] = helioxcorrection(df.loc[df['fluid']=='heliox', 'qstp'], H)\n",
    "    return df"
   ]
  },
  {
   "cell_type": "markdown",
   "metadata": {},
   "source": [
    "## Experimental measurements (DataFrame 'T')\n",
    "Pressure drop measurements were done at various settings and recorded in `EXPERIMENT_DATA.csv`. The measurements were done for all combinations of:\n",
    "* fluid type (`fluid`): *air* or *heliox*\n",
    "* configuration (`config`): with the branching airway segment either *attached* or *detached*.\n",
    "* flow rates (`qstp`): 5-30 L/min for air, 7-45 L/min for heliox, recorded by the TSI meter for STP conditions\n",
    "* subject replicas (`subnum`): 10 child subjects numbered 2, 3, 5, 6, 9, 10, 11, 12, 13, 14."
   ]
  },
  {
   "cell_type": "code",
   "execution_count": 74,
   "metadata": {},
   "outputs": [],
   "source": [
    "# IMPORT EXPERIMENTAL DATA\n",
    "T = pd.read_csv(\"./SOURCE_DATA/SubjectReplicas_ExperimentalMeasurements/EXPERIMENT_DATA.csv\")\n",
    "\n",
    "# rename headers, remove unneeded columns\n",
    "T = T.rename({'fluidFlag':'fluid', 'subNum':'subnum', 'attFlag':'config', 'Qstp':'qstp', 'PDrop':'pdrop'}, axis='columns')\n",
    "T = T.drop(columns=['date','dayRun','Tfluid','Pfluid'])\n",
    "\n",
    "# change fluid and configuration flags to actual descriptions\n",
    "T['fluid']  = T['fluid'].map( {1:'air', 2:'heliox'})\n",
    "T['config'] = T['config'].map({0:'detach', 1:'attach'})\n",
    "\n",
    "# correct all heliox flow rate readings to their proper values\n",
    "T = correcthelioxflowrates(T,H)"
   ]
  },
  {
   "cell_type": "code",
   "execution_count": 75,
   "metadata": {
    "scrolled": true
   },
   "outputs": [
    {
     "data": {
      "text/html": [
       "<div>\n",
       "<style scoped>\n",
       "    .dataframe tbody tr th:only-of-type {\n",
       "        vertical-align: middle;\n",
       "    }\n",
       "\n",
       "    .dataframe tbody tr th {\n",
       "        vertical-align: top;\n",
       "    }\n",
       "\n",
       "    .dataframe thead th {\n",
       "        text-align: right;\n",
       "    }\n",
       "</style>\n",
       "<table border=\"1\" class=\"dataframe\">\n",
       "  <thead>\n",
       "    <tr style=\"text-align: right;\">\n",
       "      <th></th>\n",
       "      <th>fluid</th>\n",
       "      <th>subnum</th>\n",
       "      <th>config</th>\n",
       "      <th>qstp</th>\n",
       "      <th>pdrop</th>\n",
       "    </tr>\n",
       "  </thead>\n",
       "  <tbody>\n",
       "    <tr>\n",
       "      <th>702</th>\n",
       "      <td>heliox</td>\n",
       "      <td>13</td>\n",
       "      <td>attach</td>\n",
       "      <td>6.984241</td>\n",
       "      <td>11.8</td>\n",
       "    </tr>\n",
       "    <tr>\n",
       "      <th>703</th>\n",
       "      <td>heliox</td>\n",
       "      <td>13</td>\n",
       "      <td>attach</td>\n",
       "      <td>7.054750</td>\n",
       "      <td>12.1</td>\n",
       "    </tr>\n",
       "    <tr>\n",
       "      <th>704</th>\n",
       "      <td>heliox</td>\n",
       "      <td>13</td>\n",
       "      <td>attach</td>\n",
       "      <td>7.101084</td>\n",
       "      <td>12.2</td>\n",
       "    </tr>\n",
       "    <tr>\n",
       "      <th>705</th>\n",
       "      <td>heliox</td>\n",
       "      <td>13</td>\n",
       "      <td>attach</td>\n",
       "      <td>14.342089</td>\n",
       "      <td>31.5</td>\n",
       "    </tr>\n",
       "    <tr>\n",
       "      <th>706</th>\n",
       "      <td>heliox</td>\n",
       "      <td>13</td>\n",
       "      <td>attach</td>\n",
       "      <td>14.440215</td>\n",
       "      <td>31.9</td>\n",
       "    </tr>\n",
       "  </tbody>\n",
       "</table>\n",
       "</div>"
      ],
      "text/plain": [
       "      fluid  subnum  config       qstp  pdrop\n",
       "702  heliox      13  attach   6.984241   11.8\n",
       "703  heliox      13  attach   7.054750   12.1\n",
       "704  heliox      13  attach   7.101084   12.2\n",
       "705  heliox      13  attach  14.342089   31.5\n",
       "706  heliox      13  attach  14.440215   31.9"
      ]
     },
     "execution_count": 75,
     "metadata": {},
     "output_type": "execute_result"
    }
   ],
   "source": [
    "T[T['fluid']=='heliox'].head()"
   ]
  },
  {
   "cell_type": "markdown",
   "metadata": {},
   "source": [
    "## Compute nominal flowrate (`qnom`)"
   ]
  },
  {
   "cell_type": "code",
   "execution_count": 76,
   "metadata": {},
   "outputs": [],
   "source": [
    "# DIVIDE EACH READING INTO Q_NOMINAL GROUP USING 'DBSCAN'\n",
    "def assignqnomgroups(df,fluid):\n",
    "    qValues = df.loc[df['fluid']==fluid,'qstp'].values\n",
    "    qNomGroups = DBSCAN(min_samples=3).fit(qValues.reshape(-1,1)).labels_   # min samples set to 3 allows it to work for table E\n",
    "    df.loc[df['fluid']==fluid,'qnom'] = qNomGroups\n",
    "    return df\n",
    "\n",
    "T = assignqnomgroups(T,'air')          # attach\n",
    "T = assignqnomgroups(T,'heliox')\n",
    "T['qnom'] = T['qnom'].astype(int)  # convert index value to integer afterward"
   ]
  },
  {
   "cell_type": "code",
   "execution_count": 77,
   "metadata": {},
   "outputs": [
    {
     "data": {
      "text/html": [
       "<div>\n",
       "<style scoped>\n",
       "    .dataframe tbody tr th:only-of-type {\n",
       "        vertical-align: middle;\n",
       "    }\n",
       "\n",
       "    .dataframe tbody tr th {\n",
       "        vertical-align: top;\n",
       "    }\n",
       "\n",
       "    .dataframe thead th {\n",
       "        text-align: right;\n",
       "    }\n",
       "</style>\n",
       "<table border=\"1\" class=\"dataframe\">\n",
       "  <thead>\n",
       "    <tr style=\"text-align: right;\">\n",
       "      <th></th>\n",
       "      <th>fluid</th>\n",
       "      <th>subnum</th>\n",
       "      <th>config</th>\n",
       "      <th>qstp</th>\n",
       "      <th>pdrop</th>\n",
       "      <th>qnom</th>\n",
       "    </tr>\n",
       "  </thead>\n",
       "  <tbody>\n",
       "    <tr>\n",
       "      <th>0</th>\n",
       "      <td>air</td>\n",
       "      <td>3</td>\n",
       "      <td>attach</td>\n",
       "      <td>5.00</td>\n",
       "      <td>27.9</td>\n",
       "      <td>0</td>\n",
       "    </tr>\n",
       "    <tr>\n",
       "      <th>1</th>\n",
       "      <td>air</td>\n",
       "      <td>3</td>\n",
       "      <td>attach</td>\n",
       "      <td>5.00</td>\n",
       "      <td>28.1</td>\n",
       "      <td>0</td>\n",
       "    </tr>\n",
       "    <tr>\n",
       "      <th>2</th>\n",
       "      <td>air</td>\n",
       "      <td>3</td>\n",
       "      <td>attach</td>\n",
       "      <td>5.00</td>\n",
       "      <td>27.8</td>\n",
       "      <td>0</td>\n",
       "    </tr>\n",
       "    <tr>\n",
       "      <th>3</th>\n",
       "      <td>air</td>\n",
       "      <td>3</td>\n",
       "      <td>attach</td>\n",
       "      <td>10.02</td>\n",
       "      <td>91.5</td>\n",
       "      <td>1</td>\n",
       "    </tr>\n",
       "    <tr>\n",
       "      <th>4</th>\n",
       "      <td>air</td>\n",
       "      <td>3</td>\n",
       "      <td>attach</td>\n",
       "      <td>10.01</td>\n",
       "      <td>98.1</td>\n",
       "      <td>1</td>\n",
       "    </tr>\n",
       "  </tbody>\n",
       "</table>\n",
       "</div>"
      ],
      "text/plain": [
       "  fluid  subnum  config   qstp  pdrop  qnom\n",
       "0   air       3  attach   5.00   27.9     0\n",
       "1   air       3  attach   5.00   28.1     0\n",
       "2   air       3  attach   5.00   27.8     0\n",
       "3   air       3  attach  10.02   91.5     1\n",
       "4   air       3  attach  10.01   98.1     1"
      ]
     },
     "execution_count": 77,
     "metadata": {},
     "output_type": "execute_result"
    }
   ],
   "source": [
    "T.head()"
   ]
  },
  {
   "cell_type": "code",
   "execution_count": 78,
   "metadata": {},
   "outputs": [],
   "source": [
    "# FIND AVERAGE QNOM VALUES FOR EACH QNOM GROUP\n",
    "def get_qnom_dict(df,fluid):\n",
    "    df_fluid = df.loc[df['fluid']==fluid, ['qnom','qstp']]      \n",
    "    df_groups = df_fluid.groupby(by='qnom').mean()                 # average of each nominal Q group\n",
    "    df_groups['qnom']=np.round(df_groups['qstp']).astype(int)    # convert qnom from float to int\n",
    "    df_groups = df_groups.drop(columns='qstp')                   # \n",
    "    df_groups_dict = df_groups.to_dict()\n",
    "    return df_groups_dict['qnom']\n",
    "\n",
    "# Assign mapping of qnom groups -> values to a master dectionary for both fluids\n",
    "QNOM_GROUPS_DICT_AIR = get_qnom_dict(T,'air')\n",
    "QNOM_GROUPS_DICT_HEL = get_qnom_dict(T,'heliox')\n",
    "QNOM_GROUPS_DICT = {'air':QNOM_GROUPS_DICT_AIR, 'heliox':QNOM_GROUPS_DICT_HEL}"
   ]
  },
  {
   "cell_type": "code",
   "execution_count": 79,
   "metadata": {},
   "outputs": [
    {
     "data": {
      "text/plain": [
       "{'air': {0: 5, 1: 10, 2: 15, 3: 30}, 'heliox': {0: 7, 1: 14, 2: 23, 3: 46}}"
      ]
     },
     "execution_count": 79,
     "metadata": {},
     "output_type": "execute_result"
    }
   ],
   "source": [
    "QNOM_GROUPS_DICT"
   ]
  },
  {
   "cell_type": "code",
   "execution_count": 80,
   "metadata": {},
   "outputs": [],
   "source": [
    "# REPLACE QNOM GROUP INDICES WITH ACTUAL VALUES USING THE DICTIONARY\n",
    "def replace_qnom_groups_with_values(df,QNOM_GROUPS_DICT,fluid):\n",
    "    df.loc[df['fluid']==fluid,'qnom'] = df.loc[df['fluid']==fluid,'qnom'].map(QNOM_GROUPS_DICT[fluid])\n",
    "    return df\n",
    "\n",
    "T = replace_qnom_groups_with_values(T,QNOM_GROUPS_DICT,'air')\n",
    "T = replace_qnom_groups_with_values(T,QNOM_GROUPS_DICT,'heliox')"
   ]
  },
  {
   "cell_type": "code",
   "execution_count": 81,
   "metadata": {},
   "outputs": [],
   "source": [
    "T = T.groupby(by=['fluid','config','subnum','qnom']).mean().reset_index()"
   ]
  },
  {
   "cell_type": "markdown",
   "metadata": {},
   "source": [
    "# Join attached and detached configurations"
   ]
  },
  {
   "cell_type": "code",
   "execution_count": 82,
   "metadata": {},
   "outputs": [],
   "source": [
    "# Break table apart into 2 pieces for each configuration (attached, detached) \n",
    "def slicetable_on_config(T,config):\n",
    "    Tconfig = T[T['config']==config]\n",
    "    Tconfig = Tconfig.drop(columns=['config'])\n",
    "    return Tconfig\n",
    "\n",
    "Tattach = slicetable_on_config(T,'attach')\n",
    "Tdetach = slicetable_on_config(T,'detach')"
   ]
  },
  {
   "cell_type": "code",
   "execution_count": 83,
   "metadata": {},
   "outputs": [],
   "source": [
    "# Join tables together based on fluid type, subject number and nominal flow rate\n",
    "T = pd.merge(Tattach, Tdetach,  how='left', left_on=['fluid','subnum','qnom'], right_on = ['fluid','subnum','qnom'])\n",
    "T = T.rename({'pdrop_x':'pdrop_attach', 'pdrop_y':'pdrop_detach'}, axis='columns')\n",
    "T = T.rename({'qstp_x' :'qstp_attach' , 'qstp_y' :'qstp_detach'},  axis='columns')"
   ]
  },
  {
   "cell_type": "code",
   "execution_count": 84,
   "metadata": {},
   "outputs": [],
   "source": [
    "# Average each flow rate reading to use as the flow rate\n",
    "qstp_list = ['qstp_attach','qstp_detach']\n",
    "T['qstp'] = T[qstp_list].mean(axis=1)\n",
    "T = T.drop(columns=qstp_list)"
   ]
  },
  {
   "cell_type": "code",
   "execution_count": 85,
   "metadata": {},
   "outputs": [],
   "source": [
    "# Rearrange columns\n",
    "T = T[['fluid','subnum','qnom','qstp','pdrop_attach','pdrop_detach']]"
   ]
  },
  {
   "cell_type": "code",
   "execution_count": 86,
   "metadata": {},
   "outputs": [
    {
     "data": {
      "text/html": [
       "<div>\n",
       "<style scoped>\n",
       "    .dataframe tbody tr th:only-of-type {\n",
       "        vertical-align: middle;\n",
       "    }\n",
       "\n",
       "    .dataframe tbody tr th {\n",
       "        vertical-align: top;\n",
       "    }\n",
       "\n",
       "    .dataframe thead th {\n",
       "        text-align: right;\n",
       "    }\n",
       "</style>\n",
       "<table border=\"1\" class=\"dataframe\">\n",
       "  <thead>\n",
       "    <tr style=\"text-align: right;\">\n",
       "      <th></th>\n",
       "      <th>fluid</th>\n",
       "      <th>subnum</th>\n",
       "      <th>qnom</th>\n",
       "      <th>qstp</th>\n",
       "      <th>pdrop_attach</th>\n",
       "      <th>pdrop_detach</th>\n",
       "    </tr>\n",
       "  </thead>\n",
       "  <tbody>\n",
       "    <tr>\n",
       "      <th>0</th>\n",
       "      <td>air</td>\n",
       "      <td>2</td>\n",
       "      <td>5</td>\n",
       "      <td>5.001667</td>\n",
       "      <td>35.733333</td>\n",
       "      <td>30.455556</td>\n",
       "    </tr>\n",
       "    <tr>\n",
       "      <th>1</th>\n",
       "      <td>air</td>\n",
       "      <td>2</td>\n",
       "      <td>10</td>\n",
       "      <td>10.004444</td>\n",
       "      <td>114.411111</td>\n",
       "      <td>99.722222</td>\n",
       "    </tr>\n",
       "    <tr>\n",
       "      <th>2</th>\n",
       "      <td>air</td>\n",
       "      <td>2</td>\n",
       "      <td>15</td>\n",
       "      <td>14.998889</td>\n",
       "      <td>225.333333</td>\n",
       "      <td>199.900000</td>\n",
       "    </tr>\n",
       "    <tr>\n",
       "      <th>3</th>\n",
       "      <td>air</td>\n",
       "      <td>2</td>\n",
       "      <td>30</td>\n",
       "      <td>30.022778</td>\n",
       "      <td>784.111111</td>\n",
       "      <td>711.333333</td>\n",
       "    </tr>\n",
       "    <tr>\n",
       "      <th>4</th>\n",
       "      <td>air</td>\n",
       "      <td>3</td>\n",
       "      <td>5</td>\n",
       "      <td>5.003889</td>\n",
       "      <td>28.033333</td>\n",
       "      <td>24.000000</td>\n",
       "    </tr>\n",
       "  </tbody>\n",
       "</table>\n",
       "</div>"
      ],
      "text/plain": [
       "  fluid  subnum  qnom       qstp  pdrop_attach  pdrop_detach\n",
       "0   air       2     5   5.001667     35.733333     30.455556\n",
       "1   air       2    10  10.004444    114.411111     99.722222\n",
       "2   air       2    15  14.998889    225.333333    199.900000\n",
       "3   air       2    30  30.022778    784.111111    711.333333\n",
       "4   air       3     5   5.003889     28.033333     24.000000"
      ]
     },
     "execution_count": 86,
     "metadata": {},
     "output_type": "execute_result"
    }
   ],
   "source": [
    "T.head()"
   ]
  },
  {
   "cell_type": "markdown",
   "metadata": {},
   "source": [
    "# Calculate $\\Delta P$ nose-throat and branching"
   ]
  },
  {
   "cell_type": "markdown",
   "metadata": {},
   "source": [
    "## Calculate sudden expansion pressure drop"
   ]
  },
  {
   "cell_type": "code",
   "execution_count": 87,
   "metadata": {},
   "outputs": [],
   "source": [
    "F = pd.read_csv(\"./SOURCE_DATA/FLUID_VALUES.csv\")\n",
    "F = F.rename({'fluidName':'fluid', 'K_SE':'k_se','latexName':'latexname'}, axis='columns')\n",
    "F = F.drop(columns='fluidFlag')"
   ]
  },
  {
   "cell_type": "code",
   "execution_count": 88,
   "metadata": {},
   "outputs": [],
   "source": [
    "S = pd.read_csv(\"./SOURCE_DATA/SubjectReplicas_AirwayDimensions/SUBJECT_VALUES.csv\")\n",
    "S = S.rename({'subNum':'subnum', 'areaAttach':'attacharea'}, axis='columns')"
   ]
  },
  {
   "cell_type": "code",
   "execution_count": 89,
   "metadata": {},
   "outputs": [],
   "source": [
    "def map_df_small_to_big(df_big,df_small,indexname,propertyname,keepwhat='wholetable'):\n",
    "    '''map values of propertyname from a small df to a big df based on matching the indexname\n",
    "    df_big - destination data frame / df_small - source data frame /\n",
    "    indexname - column name to match between both tables / propertyname - value to map to bigger table based on smaller table'''\n",
    "    if isinstance(indexname,str): indexname = [indexname]\n",
    "    if isinstance(propertyname,str): propertyname = [propertyname]\n",
    "    property_df = df_small[indexname + propertyname]\n",
    "    df_aug =  pd.merge(df_big, property_df, how='left', left_on=indexname, right_on=indexname)\n",
    "    if keepwhat == 'wholetable':\n",
    "        return df_aug  #return whole table with new property values added\n",
    "    elif keepwhat == 'newvalue':\n",
    "        return df_aug[propertyname]  # or keep only the new property values"
   ]
  },
  {
   "cell_type": "code",
   "execution_count": 90,
   "metadata": {},
   "outputs": [],
   "source": [
    "# add necessary values to table for vector calculation of p_se, then drop them after. \n",
    "T = map_df_small_to_big(T,S,'subnum','attacharea')\n",
    "T = map_df_small_to_big(T,F,'fluid',['rho','mu','k_se'])\n",
    "\n",
    "def calc_pdrop_se(q_lpm, attacharea_m2, rho, k_se):\n",
    "    '''calculates sudden expansion into plenum \n",
    "    at the attachment point of replica'''\n",
    "    velattach = fluids.flow_to_vel(q_lpm, attacharea_m2)\n",
    "    pdrop_se = (1/2) * rho * k_se * (velattach**2)\n",
    "    return pdrop_se\n",
    "\n",
    "T['pdrop_se'] = calc_pdrop_se(T['qstp'].values, T['attacharea'].values, T['rho'].values, T['k_se'].values)\n",
    "T = T.drop(['attacharea','rho','mu','k_se'], axis=1)"
   ]
  },
  {
   "cell_type": "code",
   "execution_count": 91,
   "metadata": {},
   "outputs": [
    {
     "data": {
      "text/html": [
       "<div>\n",
       "<style scoped>\n",
       "    .dataframe tbody tr th:only-of-type {\n",
       "        vertical-align: middle;\n",
       "    }\n",
       "\n",
       "    .dataframe tbody tr th {\n",
       "        vertical-align: top;\n",
       "    }\n",
       "\n",
       "    .dataframe thead th {\n",
       "        text-align: right;\n",
       "    }\n",
       "</style>\n",
       "<table border=\"1\" class=\"dataframe\">\n",
       "  <thead>\n",
       "    <tr style=\"text-align: right;\">\n",
       "      <th></th>\n",
       "      <th>fluid</th>\n",
       "      <th>subnum</th>\n",
       "      <th>qnom</th>\n",
       "      <th>qstp</th>\n",
       "      <th>pdrop_attach</th>\n",
       "      <th>pdrop_detach</th>\n",
       "      <th>pdrop_se</th>\n",
       "    </tr>\n",
       "  </thead>\n",
       "  <tbody>\n",
       "    <tr>\n",
       "      <th>0</th>\n",
       "      <td>air</td>\n",
       "      <td>2</td>\n",
       "      <td>5</td>\n",
       "      <td>5.001667</td>\n",
       "      <td>35.733333</td>\n",
       "      <td>30.455556</td>\n",
       "      <td>2.266090</td>\n",
       "    </tr>\n",
       "    <tr>\n",
       "      <th>1</th>\n",
       "      <td>air</td>\n",
       "      <td>2</td>\n",
       "      <td>10</td>\n",
       "      <td>10.004444</td>\n",
       "      <td>114.411111</td>\n",
       "      <td>99.722222</td>\n",
       "      <td>9.066372</td>\n",
       "    </tr>\n",
       "    <tr>\n",
       "      <th>2</th>\n",
       "      <td>air</td>\n",
       "      <td>2</td>\n",
       "      <td>15</td>\n",
       "      <td>14.998889</td>\n",
       "      <td>225.333333</td>\n",
       "      <td>199.900000</td>\n",
       "      <td>20.378198</td>\n",
       "    </tr>\n",
       "    <tr>\n",
       "      <th>3</th>\n",
       "      <td>air</td>\n",
       "      <td>2</td>\n",
       "      <td>30</td>\n",
       "      <td>30.022778</td>\n",
       "      <td>784.111111</td>\n",
       "      <td>711.333333</td>\n",
       "      <td>81.648713</td>\n",
       "    </tr>\n",
       "    <tr>\n",
       "      <th>4</th>\n",
       "      <td>air</td>\n",
       "      <td>3</td>\n",
       "      <td>5</td>\n",
       "      <td>5.003889</td>\n",
       "      <td>28.033333</td>\n",
       "      <td>24.000000</td>\n",
       "      <td>1.816337</td>\n",
       "    </tr>\n",
       "  </tbody>\n",
       "</table>\n",
       "</div>"
      ],
      "text/plain": [
       "  fluid  subnum  qnom       qstp  pdrop_attach  pdrop_detach   pdrop_se\n",
       "0   air       2     5   5.001667     35.733333     30.455556   2.266090\n",
       "1   air       2    10  10.004444    114.411111     99.722222   9.066372\n",
       "2   air       2    15  14.998889    225.333333    199.900000  20.378198\n",
       "3   air       2    30  30.022778    784.111111    711.333333  81.648713\n",
       "4   air       3     5   5.003889     28.033333     24.000000   1.816337"
      ]
     },
     "execution_count": 91,
     "metadata": {},
     "output_type": "execute_result"
    }
   ],
   "source": [
    "T.head()"
   ]
  },
  {
   "cell_type": "markdown",
   "metadata": {},
   "source": [
    "## Import empty pressure drop readings"
   ]
  },
  {
   "cell_type": "code",
   "execution_count": 92,
   "metadata": {},
   "outputs": [],
   "source": [
    "# Import data\n",
    "E = pd.read_csv(\"./SOURCE_DATA/SubjectReplicas_ExperimentalMeasurements/PDROP_EMPTY.csv\")\n",
    "\n",
    "# Rename columns and categories\n",
    "E = E.rename({'fluidFlag':'fluid', 'Qstp':'qstp', 'PDrop':'pdrop', 'attFlag':'config'}, axis='columns')\n",
    "E['fluid']  = E['fluid'].map( {1:'air', 2:'heliox'})\n",
    "\n",
    "# Correct erroneous heliox values\n",
    "E = correcthelioxflowrates(E,H)\n",
    "\n",
    "# Tag each reading with a qnom group\n",
    "E = assignqnomgroups(E,'air')\n",
    "E = assignqnomgroups(E,'heliox')\n",
    "E['qnom'] = E['qnom'].astype(int)\n",
    "\n",
    "# replace qnom groups by actual values using dictionary derived from table T\n",
    "E = replace_qnom_groups_with_values(E,QNOM_GROUPS_DICT,'air')\n",
    "E = replace_qnom_groups_with_values(E,QNOM_GROUPS_DICT,'heliox')\n",
    "\n",
    "# rearrange columns\n",
    "E = E[['fluid','qnom','qstp','pdrop']]\n",
    "assert all((np.abs(E.qnom - E.qstp)/E.qnom).values < 0.1), 'qnom assignment for table E failed'  # check that assignment of qnom worked\n",
    "\n",
    "# group repeated values done at the same flow rate \n",
    "E = pd.pivot_table(E, index=['fluid','qnom'], aggfunc=np.mean)  #aggregate and average repeated measurements \n",
    "E = E.reset_index()"
   ]
  },
  {
   "cell_type": "code",
   "execution_count": 93,
   "metadata": {},
   "outputs": [],
   "source": [
    "def powerfit(x,y):\n",
    "    ''' For form: y = a*x^b\n",
    "    Inputs:  (x, y) / Outputs: [a, b]'''\n",
    "    C = np.polyfit(np.log(x), np.log(y), 1);\n",
    "    a = np.exp(C[1]);\n",
    "    b = C[0];  \n",
    "    return a, b\n",
    "\n",
    "def make_pdrop_empty_lambda_for_fluid(E,fluid):\n",
    "    Etemp = E[E['fluid']==fluid]\n",
    "    a,b = powerfit(Etemp['qstp'].values, Etemp['pdrop'].values)\n",
    "    pdrop_empty_func = lambda q: a*(q**b)\n",
    "    return pdrop_empty_func\n",
    "\n",
    "def make_pdrop_empty_main_func(E):\n",
    "    functionList = []\n",
    "    uniqueFluids = E.fluid.unique()\n",
    "    for fluid in uniqueFluids:\n",
    "        functionList.append(make_pdrop_empty_lambda_for_fluid(E,fluid))\n",
    "    funcDict = dict(zip(uniqueFluids,functionList))\n",
    "    pdrop_empty_func = lambda q, fluid: funcDict[fluid](q)   # Return a function to calculate pdrop_empty based on only q and fluid\n",
    "    return pdrop_empty_func\n",
    "\n",
    "# Create a function to calculate pdrop_empty based on only q and fluid\n",
    "calc_pdrop_empty = make_pdrop_empty_main_func(E)"
   ]
  },
  {
   "cell_type": "code",
   "execution_count": 94,
   "metadata": {},
   "outputs": [],
   "source": [
    "# Calculate 'pdrop_empty' to account for the exit pipe dimensions\n",
    "T['pdrop_empty'] = np.vectorize(calc_pdrop_empty)(T.qstp,T.fluid)"
   ]
  },
  {
   "cell_type": "markdown",
   "metadata": {},
   "source": [
    "## Calculate Branching and Nose-Throat pressure drop"
   ]
  },
  {
   "cell_type": "code",
   "execution_count": 95,
   "metadata": {},
   "outputs": [],
   "source": [
    "# Calculate pdrop_dist and pdrop_nt as a function of the other recorded pressure drop values\n",
    "T['pdrop_branching'] = T['pdrop_attach'] - T['pdrop_detach'] + T['pdrop_se']\n",
    "T['pdrop_nosethroat'] = T['pdrop_detach'] - T['pdrop_se'] - T['pdrop_empty']\n",
    "T = T.drop(['pdrop_attach','pdrop_detach','pdrop_se','pdrop_empty'], axis=1)"
   ]
  },
  {
   "cell_type": "code",
   "execution_count": 96,
   "metadata": {},
   "outputs": [
    {
     "data": {
      "text/html": [
       "<div>\n",
       "<style scoped>\n",
       "    .dataframe tbody tr th:only-of-type {\n",
       "        vertical-align: middle;\n",
       "    }\n",
       "\n",
       "    .dataframe tbody tr th {\n",
       "        vertical-align: top;\n",
       "    }\n",
       "\n",
       "    .dataframe thead th {\n",
       "        text-align: right;\n",
       "    }\n",
       "</style>\n",
       "<table border=\"1\" class=\"dataframe\">\n",
       "  <thead>\n",
       "    <tr style=\"text-align: right;\">\n",
       "      <th></th>\n",
       "      <th>fluid</th>\n",
       "      <th>subnum</th>\n",
       "      <th>qnom</th>\n",
       "      <th>qstp</th>\n",
       "      <th>pdrop_branching</th>\n",
       "      <th>pdrop_nosethroat</th>\n",
       "    </tr>\n",
       "  </thead>\n",
       "  <tbody>\n",
       "    <tr>\n",
       "      <th>0</th>\n",
       "      <td>air</td>\n",
       "      <td>2</td>\n",
       "      <td>5</td>\n",
       "      <td>5.001667</td>\n",
       "      <td>7.543867</td>\n",
       "      <td>26.996335</td>\n",
       "    </tr>\n",
       "    <tr>\n",
       "      <th>1</th>\n",
       "      <td>air</td>\n",
       "      <td>2</td>\n",
       "      <td>10</td>\n",
       "      <td>10.004444</td>\n",
       "      <td>23.755261</td>\n",
       "      <td>86.549508</td>\n",
       "    </tr>\n",
       "    <tr>\n",
       "      <th>2</th>\n",
       "      <td>air</td>\n",
       "      <td>2</td>\n",
       "      <td>15</td>\n",
       "      <td>14.998889</td>\n",
       "      <td>45.811531</td>\n",
       "      <td>171.069171</td>\n",
       "    </tr>\n",
       "    <tr>\n",
       "      <th>3</th>\n",
       "      <td>air</td>\n",
       "      <td>2</td>\n",
       "      <td>30</td>\n",
       "      <td>30.022778</td>\n",
       "      <td>154.426491</td>\n",
       "      <td>600.556139</td>\n",
       "    </tr>\n",
       "    <tr>\n",
       "      <th>4</th>\n",
       "      <td>air</td>\n",
       "      <td>3</td>\n",
       "      <td>5</td>\n",
       "      <td>5.003889</td>\n",
       "      <td>5.849670</td>\n",
       "      <td>20.989587</td>\n",
       "    </tr>\n",
       "  </tbody>\n",
       "</table>\n",
       "</div>"
      ],
      "text/plain": [
       "  fluid  subnum  qnom       qstp  pdrop_branching  pdrop_nosethroat\n",
       "0   air       2     5   5.001667         7.543867         26.996335\n",
       "1   air       2    10  10.004444        23.755261         86.549508\n",
       "2   air       2    15  14.998889        45.811531        171.069171\n",
       "3   air       2    30  30.022778       154.426491        600.556139\n",
       "4   air       3     5   5.003889         5.849670         20.989587"
      ]
     },
     "execution_count": 96,
     "metadata": {},
     "output_type": "execute_result"
    }
   ],
   "source": [
    "T.head()"
   ]
  },
  {
   "cell_type": "markdown",
   "metadata": {},
   "source": [
    "# Reynolds number ($Re$) and Coefficient of Friction ($C_F$)"
   ]
  },
  {
   "cell_type": "markdown",
   "metadata": {},
   "source": [
    "Function definitions"
   ]
  },
  {
   "cell_type": "code",
   "execution_count": 97,
   "metadata": {},
   "outputs": [],
   "source": [
    "# add necessary values to main table in preparation for calculations\n",
    "T = map_df_small_to_big(T,S,'subnum','diam')\n",
    "T = map_df_small_to_big(T,F,'fluid',['rho','mu'])    \n",
    "\n",
    "# Calculate C_F and Re and add to main table\n",
    "T['cf_branching']  = fluids.calc_cf(T.pdrop_branching,  T.qstp, T.diam, T.rho)\n",
    "T['cf_nosethroat'] = fluids.calc_cf(T.pdrop_nosethroat, T.qstp, T.diam, T.rho)\n",
    "T['reynoldsnum']   = fluids.calc_reynoldsnum(T.qstp, T.diam, T.rho, T.mu)\n",
    "\n",
    "# Remove temporary calculation values\n",
    "T = T.drop(['diam','rho','mu'], axis=1)\n"
   ]
  },
  {
   "cell_type": "markdown",
   "metadata": {},
   "source": [
    "# ANALYTICAL CALCULATIONS"
   ]
  },
  {
   "cell_type": "code",
   "execution_count": 98,
   "metadata": {},
   "outputs": [
    {
     "data": {
      "image/png": "[encoded data removed]",
      "text/plain": [
       "<Figure size 432x288 with 1 Axes>"
      ]
     },
     "metadata": {},
     "output_type": "display_data"
    }
   ],
   "source": [
    "x = T[(T.subnum==3) & (T.fluid=='heliox')]\n",
    "x.plot('reynoldsnum','cf_branching');"
   ]
  },
  {
   "cell_type": "code",
   "execution_count": 99,
   "metadata": {},
   "outputs": [
    {
     "data": {
      "text/html": [
       "<div>\n",
       "<style scoped>\n",
       "    .dataframe tbody tr th:only-of-type {\n",
       "        vertical-align: middle;\n",
       "    }\n",
       "\n",
       "    .dataframe tbody tr th {\n",
       "        vertical-align: top;\n",
       "    }\n",
       "\n",
       "    .dataframe thead th {\n",
       "        text-align: right;\n",
       "    }\n",
       "</style>\n",
       "<table border=\"1\" class=\"dataframe\">\n",
       "  <thead>\n",
       "    <tr style=\"text-align: right;\">\n",
       "      <th></th>\n",
       "      <th>fluid</th>\n",
       "      <th>subnum</th>\n",
       "      <th>qnom</th>\n",
       "      <th>qstp</th>\n",
       "      <th>pdrop_branching</th>\n",
       "      <th>pdrop_nosethroat</th>\n",
       "      <th>cf_branching</th>\n",
       "      <th>cf_nosethroat</th>\n",
       "      <th>reynoldsnum</th>\n",
       "    </tr>\n",
       "  </thead>\n",
       "  <tbody>\n",
       "    <tr>\n",
       "      <th>0</th>\n",
       "      <td>air</td>\n",
       "      <td>2</td>\n",
       "      <td>5</td>\n",
       "      <td>5.001667</td>\n",
       "      <td>7.543867</td>\n",
       "      <td>26.996335</td>\n",
       "      <td>2.743380</td>\n",
       "      <td>9.817406</td>\n",
       "      <td>997.609132</td>\n",
       "    </tr>\n",
       "    <tr>\n",
       "      <th>1</th>\n",
       "      <td>air</td>\n",
       "      <td>2</td>\n",
       "      <td>10</td>\n",
       "      <td>10.004444</td>\n",
       "      <td>23.755261</td>\n",
       "      <td>86.549508</td>\n",
       "      <td>2.159212</td>\n",
       "      <td>7.866836</td>\n",
       "      <td>1995.439882</td>\n",
       "    </tr>\n",
       "    <tr>\n",
       "      <th>2</th>\n",
       "      <td>air</td>\n",
       "      <td>2</td>\n",
       "      <td>15</td>\n",
       "      <td>14.998889</td>\n",
       "      <td>45.811531</td>\n",
       "      <td>171.069171</td>\n",
       "      <td>1.852585</td>\n",
       "      <td>6.917911</td>\n",
       "      <td>2991.608503</td>\n",
       "    </tr>\n",
       "    <tr>\n",
       "      <th>3</th>\n",
       "      <td>air</td>\n",
       "      <td>2</td>\n",
       "      <td>30</td>\n",
       "      <td>30.022778</td>\n",
       "      <td>154.426491</td>\n",
       "      <td>600.556139</td>\n",
       "      <td>1.558624</td>\n",
       "      <td>6.061405</td>\n",
       "      <td>5988.203390</td>\n",
       "    </tr>\n",
       "    <tr>\n",
       "      <th>4</th>\n",
       "      <td>air</td>\n",
       "      <td>3</td>\n",
       "      <td>5</td>\n",
       "      <td>5.003889</td>\n",
       "      <td>5.849670</td>\n",
       "      <td>20.989587</td>\n",
       "      <td>3.506454</td>\n",
       "      <td>12.581738</td>\n",
       "      <td>880.634441</td>\n",
       "    </tr>\n",
       "  </tbody>\n",
       "</table>\n",
       "</div>"
      ],
      "text/plain": [
       "  fluid  subnum  qnom       qstp  pdrop_branching  pdrop_nosethroat  \\\n",
       "0   air       2     5   5.001667         7.543867         26.996335   \n",
       "1   air       2    10  10.004444        23.755261         86.549508   \n",
       "2   air       2    15  14.998889        45.811531        171.069171   \n",
       "3   air       2    30  30.022778       154.426491        600.556139   \n",
       "4   air       3     5   5.003889         5.849670         20.989587   \n",
       "\n",
       "   cf_branching  cf_nosethroat  reynoldsnum  \n",
       "0      2.743380       9.817406   997.609132  \n",
       "1      2.159212       7.866836  1995.439882  \n",
       "2      1.852585       6.917911  2991.608503  \n",
       "3      1.558624       6.061405  5988.203390  \n",
       "4      3.506454      12.581738   880.634441  "
      ]
     },
     "execution_count": 99,
     "metadata": {},
     "output_type": "execute_result"
    }
   ],
   "source": [
    "T.head()"
   ]
  },
  {
   "cell_type": "code",
   "execution_count": 100,
   "metadata": {},
   "outputs": [],
   "source": [
    "#plt.rcParams['figure.figsize'] = [16,7]\n",
    "#uniqueFluids = T.fluid.unique()\n",
    "#uniqueSubnums = T.subnum.unique()\n",
    "#legendTitles = []\n",
    "#for fluid in uniqueFluids:\n",
    "#   for subnum in uniqueSubnums:\n",
    "#        dfx = T[(T.fluid==fluid) & (T.subnum==subnum)]\n",
    "#        plt.plot(dfx.qstp,dfx.pdrop_branching)\n",
    "#        legendTitles.append(fluid + ', ' + str(subnum))\n",
    "#plt.legend(legendTitles,loc='best')\n",
    "#plt.show()\n"
   ]
  },
  {
   "cell_type": "code",
   "execution_count": 101,
   "metadata": {},
   "outputs": [],
   "source": [
    "#sns.set_style('white')\n",
    "#colpal = sns.color_palette('pastel')\n",
    "#sns.relplot(x=\"qstp\", y=\"pdrop_branching\", data=T, col='fluid', hue='subnum', palette=colpal, markers='.', kind='line');\n",
    "#x=T.set_index(['fluid','qnom'],append=True)\n",
    "#x.unstack('fluid')\n",
    "#x.plot()2"
   ]
  },
  {
   "cell_type": "markdown",
   "metadata": {},
   "source": [
    "# TO DO #\n",
    "- Change file hierarchy in folders\n",
    "- Combine base files with MATLAB so that both can work on the data at once."
   ]
  },
  {
   "cell_type": "code",
   "execution_count": 116,
   "metadata": {},
   "outputs": [
    {
     "data": {
      "text/plain": [
       "<module 'fluidmechanics' from 'C:\\\\Users\\\\tyler\\\\Documents\\\\MY_MSC\\\\Python_MSc\\\\fluidmechanics.py'>"
      ]
     },
     "execution_count": 116,
     "metadata": {},
     "output_type": "execute_result"
    }
   ],
   "source": [
    "importlib.reload(fluids)"
   ]
  },
  {
   "cell_type": "code",
   "execution_count": 113,
   "metadata": {},
   "outputs": [
    {
     "data": {
      "text/plain": [
       "1.7873726915096078e-06"
      ]
     },
     "execution_count": 113,
     "metadata": {},
     "output_type": "execute_result"
    }
   ],
   "source": [
    "fluids.calc_pdrop_blasius(5,1,2,3,4,5)"
   ]
  },
  {
   "cell_type": "code",
   "execution_count": 114,
   "metadata": {},
   "outputs": [
    {
     "data": {
      "text/plain": [
       "5.191484199487786e-05"
      ]
     },
     "execution_count": 114,
     "metadata": {},
     "output_type": "execute_result"
    }
   ],
   "source": [
    "fluids.calc_pdrop_modpedley(5,1,2,3,4,5)"
   ]
  },
  {
   "cell_type": "code",
   "execution_count": 115,
   "metadata": {},
   "outputs": [
    {
     "data": {
      "text/plain": [
       "0.027162443621016805"
      ]
     },
     "execution_count": 115,
     "metadata": {},
     "output_type": "execute_result"
    }
   ],
   "source": [
    "fluids.calc_pdrop_pedley(5,1,2,3,4)"
   ]
  },
  {
   "cell_type": "code",
   "execution_count": 123,
   "metadata": {},
   "outputs": [
    {
     "name": "stdout",
     "output_type": "stream",
     "text": [
      "0 2.3552128968897494\n",
      "1 3.4746659404731486\n",
      "2 3.5473576965499927\n",
      "3 4.288813608533802\n",
      "4 2.5442114626895442\n",
      "5 4.405120418256753\n",
      "6 5.1756530326713\n",
      "7 8.228706787898753\n",
      "8 8.228706787898753\n",
      "9 8.228706787898753\n",
      "10 8.228706787898753\n"
     ]
    }
   ],
   "source": [
    "for gen in range(11):\n",
    "    print(gen, fluids.calc_pdrop_modpedley(10,10/1000,0.1,1.2,1.8e-5,gen))"
   ]
  },
  {
   "cell_type": "code",
   "execution_count": 333,
   "metadata": {},
   "outputs": [],
   "source": [
    "def import_branching_airway_dimensions(subnum):\n",
    "    fpath = './SOURCE_DATA/SubjectReplicas_AirwayDimensions/'\n",
    "    fname = 'Sub' + str(subnum)\n",
    "    fext  = '.txt'\n",
    "    df = pd.read_csv(fpath + fname + fext, sep='\\t', \n",
    "                     names=['name','length_mm','diam_mm'])\n",
    "    df['diam_m'] = df.diam_mm / 1000\n",
    "    df['length_m'] = df.length_mm / 1000 \n",
    "    df['gen'] = df.name.str.replace('(\\d+).*', '\\g<1>').astype(int)\n",
    "    df = df.drop(columns=['diam_mm','length_mm'])\n",
    "    return df    \n",
    "\n",
    "def find_parents(df):\n",
    "    df['parent'] = (df.gen - 1).astype(str) + df.name.str.replace('^\\d+|.$','')\n",
    "    df['iparent'] = ''\n",
    "    for parent in df.parent[1:]:\n",
    "        df.loc[df.parent==parent, 'iparent'] = df.loc[df.name == parent].index[0]\n",
    "    return df\n",
    "\n",
    "def find_daughters(df):\n",
    "    daughternames = []\n",
    "    daughterindex = []\n",
    "    for name in a.name:\n",
    "        daughternames.append(a.loc[a.parent==name,'name'].values)\n",
    "        daughterindex.append(a.loc[a.parent==name].index.values)\n",
    "    df['daughters'] = daughternames\n",
    "    df['idaughters'] = daughterindex\n",
    "    return df\n",
    "\n",
    "a=import_branching_airway_dimensions(2)\n",
    "a=find_parents(a)\n",
    "a=find_daughters(a)"
   ]
  },
  {
   "cell_type": "code",
   "execution_count": null,
   "metadata": {},
   "outputs": [],
   "source": [
    "for x in a.daughters:\n",
    "    #print(x,type(x))\n",
    "    print(a.name[a.name.isin(x.tolist())].index.values)"
   ]
  },
  {
   "cell_type": "code",
   "execution_count": 317,
   "metadata": {},
   "outputs": [
    {
     "data": {
      "text/plain": [
       "False"
      ]
     },
     "execution_count": 317,
     "metadata": {},
     "output_type": "execute_result"
    }
   ],
   "source": [
    "x=a.daughters[0].tolist()\n",
    "x in a.name.values.tolist()"
   ]
  },
  {
   "cell_type": "code",
   "execution_count": 373,
   "metadata": {},
   "outputs": [
    {
     "data": {
      "text/plain": [
       "name           object\n",
       "diam_m        float64\n",
       "length_m      float64\n",
       "gen             int32\n",
       "parent         object\n",
       "iparent        object\n",
       "daughters      object\n",
       "idaughters     object\n",
       "dtype: object"
      ]
     },
     "execution_count": 373,
     "metadata": {},
     "output_type": "execute_result"
    }
   ],
   "source": []
  },
  {
   "cell_type": "code",
   "execution_count": 327,
   "metadata": {},
   "outputs": [
    {
     "data": {
      "text/plain": [
       "array([1, 2], dtype=int64)"
      ]
     },
     "execution_count": 327,
     "metadata": {},
     "output_type": "execute_result"
    }
   ],
   "source": [
    "a[a.name.isin(['1a','1b'])].index.values"
   ]
  },
  {
   "cell_type": "code",
   "execution_count": 368,
   "metadata": {},
   "outputs": [
    {
     "data": {
      "text/plain": [
       "array([array(['1a', '1b'], dtype=object),\n",
       "       array(['2aa', '2ab'], dtype=object),\n",
       "       array(['2ba', '2bb'], dtype=object),\n",
       "       array(['3baa', '3bab'], dtype=object), array([], dtype=object),\n",
       "       array(['4baba', '4babb'], dtype=object), array([], dtype=object),\n",
       "       array(['5babbb', '5babba'], dtype=object), array([], dtype=object),\n",
       "       array([], dtype=object), array(['3bba', '3bbb'], dtype=object),\n",
       "       array(['4bbaa', '4bbab'], dtype=object),\n",
       "       array(['4bbbb', '4bbba'], dtype=object), array([], dtype=object),\n",
       "       array(['5bbbab', '5bbbaa'], dtype=object),\n",
       "       array(['6bbbabb', '6bbbaba'], dtype=object),\n",
       "       array([], dtype=object), array([], dtype=object),\n",
       "       array(['6bbbaab', '6bbbaaa'], dtype=object),\n",
       "       array([], dtype=object), array([], dtype=object),\n",
       "       array([], dtype=object), array(['5bbabb', '5bbaba'], dtype=object),\n",
       "       array([], dtype=object), array([], dtype=object),\n",
       "       array(['3aab', '3aaa'], dtype=object),\n",
       "       array(['3aba', '3abb'], dtype=object), array([], dtype=object),\n",
       "       array(['4abbb', '4abba'], dtype=object), array([], dtype=object),\n",
       "       array(['5abbab', '5abbaa'], dtype=object), array([], dtype=object),\n",
       "       array(['6abbaab', '6abbaaa'], dtype=object),\n",
       "       array([], dtype=object), array([], dtype=object),\n",
       "       array([], dtype=object), array(['4aaab', '4aaaa'], dtype=object),\n",
       "       array([], dtype=object), array(['5aaaab', '5aaaaa'], dtype=object),\n",
       "       array([], dtype=object),\n",
       "       array(['6aaaaab', '6aaaaaa'], dtype=object),\n",
       "       array([], dtype=object),\n",
       "       array(['7aaaaaaa', '7aaaaaab'], dtype=object),\n",
       "       array([], dtype=object),\n",
       "       array(['8aaaaaaba', '8aaaaaabb'], dtype=object),\n",
       "       array([], dtype=object),\n",
       "       array(['9aaaaaabbb', '9aaaaaabba'], dtype=object),\n",
       "       array([], dtype=object), array([], dtype=object)], dtype=object)"
      ]
     },
     "execution_count": 368,
     "metadata": {},
     "output_type": "execute_result"
    }
   ],
   "source": [
    "a.daughters.values"
   ]
  }
 ],
 "metadata": {
  "kernelspec": {
   "display_name": "Python 3",
   "language": "python",
   "name": "python3"
  },
  "language_info": {
   "codemirror_mode": {
    "name": "ipython",
    "version": 3
   },
   "file_extension": ".py",
   "mimetype": "text/x-python",
   "name": "python",
   "nbconvert_exporter": "python",
   "pygments_lexer": "ipython3",
   "version": "3.6.5"
  }
 },
 "nbformat": 4,
 "nbformat_minor": 2
}
